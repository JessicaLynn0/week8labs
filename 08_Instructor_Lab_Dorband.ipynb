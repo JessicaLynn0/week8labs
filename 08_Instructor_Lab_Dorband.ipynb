{
 "cells": [
  {
   "cell_type": "code",
   "execution_count": 44,
   "id": "78b8f061-989c-4fda-b10b-99bdcb2e39bf",
   "metadata": {},
   "outputs": [
    {
     "name": "stdout",
     "output_type": "stream",
     "text": [
      "\n",
      "The total counts:\n",
      " ['name_h', 'Team_type', 'Team_size_class', 'human_members_count', 'bot_members_count', 'human_work', 'work_per_human', 'human_gini', 'human_Push', 'human_IssueComments', 'human_PRReviewComment', 'human_MergedPR', 'bot_work', 'bot_Push', 'bot_IssueComments', 'bot_PRReviewComment', 'bot_MergedPR', 'eval_survival_day_median', 'issues_count']\n",
      "\n",
      "The total count of columns: 19\n",
      "\n",
      "The total count of rows: 608\n"
     ]
    }
   ],
   "source": [
    "import pandas as pd  # panda import\n",
    "github = pd.read_csv(\"github_teams.csv\")  # load github team data\n",
    "print(\"\\nThe total counts:\\n\", github.columns.tolist()) # look at data\n",
    "print(\"\\nThe total count of columns:\", len(github.columns)) # column count\n",
    "print(\"\\nThe total count of rows:\", len(github)) #row count"
   ]
  },
  {
   "cell_type": "code",
   "execution_count": 46,
   "id": "873b7ae3-f31d-4deb-8721-6f9aa590fb0d",
   "metadata": {},
   "outputs": [
    {
     "name": "stdout",
     "output_type": "stream",
     "text": [
      "\n",
      "Selected 3 Columns:\n",
      "    Team_type  human_work  work_per_human\n",
      "0  human-bot          66       33.000000\n",
      "1      human          62       31.000000\n",
      "2      human         211       30.142857\n",
      "3  human-bot       14579       62.303419\n",
      "4  human-bot        1625       42.763158\n",
      "\n",
      "Selected columns ending with t :\n",
      "    human_members_count  bot_members_count  human_PRReviewComment  \\\n",
      "0                    2                  1                      4   \n",
      "1                    2                  0                      0   \n",
      "2                    7                  0                      1   \n",
      "3                  234                 12                   1170   \n",
      "4                   38                  8                    152   \n",
      "\n",
      "   bot_PRReviewComment  issues_count  \n",
      "0                    0           8.0  \n",
      "1                    0           NaN  \n",
      "2                    0          46.0  \n",
      "3                    0        4757.0  \n",
      "4                    0         777.0  \n"
     ]
    }
   ],
   "source": [
    "selected_github = (github.filter([\"Team_type\", \"human_work\", \"work_per_human\"]))  # select columns\n",
    "print(\"\\nSelected 3 Columns:\\n\", selected_github.head())\n",
    "regex_github = (github.filter(regex=\"t$\"))  # select \"t\" columns\n",
    "print(\"\\nSelected columns ending with t :\\n\", regex_github.head())"
   ]
  },
  {
   "cell_type": "code",
   "execution_count": 48,
   "id": "8db658b6-0590-454a-9ed8-cd1f816b4b89",
   "metadata": {},
   "outputs": [
    {
     "name": "stdout",
     "output_type": "stream",
     "text": [
      "\n",
      "Sorted Data:\n",
      "     Team_size_class  human_work  work_per_human\n",
      "559           Small        3040     1013.333333\n",
      "209           Small        1639      546.333333\n",
      "410           Small         913      304.333333\n",
      "268           Small         910      455.000000\n",
      "603           Small         855      285.000000\n"
     ]
    }
   ],
   "source": [
    "sorted_github = (github.sort_values(by=[\"Team_size_class\", \"human_work\", \"work_per_human\"], ascending=False)) #desc sort\n",
    "print(\"\\nSorted Data:\\n\", sorted_github[[\"Team_size_class\", \"human_work\", \"work_per_human\"]].head())"
   ]
  },
  {
   "cell_type": "code",
   "execution_count": 50,
   "id": "0c222d71-317a-4361-9949-ab8abb2df120",
   "metadata": {},
   "outputs": [
    {
     "name": "stdout",
     "output_type": "stream",
     "text": [
      "\n",
      "Human-bot Teams with >= 3 bots:\n",
      "     Team_type  bot_members_count\n",
      "3   human-bot                 12\n",
      "4   human-bot                  8\n",
      "89  human-bot                  4\n",
      "\n",
      "Large Human Teams with Gini >= 0.75:\n",
      "     Team_type Team_size_class  human_gini\n",
      "138     human           Large    0.799446\n",
      "285     human           Large    0.863507\n",
      "505     human           Large    0.782040\n",
      "582     human           Large    0.781137\n"
     ]
    }
   ],
   "source": [
    "human_bot_teams_3 = (github.query(\"Team_type == 'human-bot' and bot_members_count >= 3\")) #select Human-bot teams >=3\n",
    "print(\"\\nHuman-bot Teams with >= 3 bots:\\n\", human_bot_teams_3[[\"Team_type\", \"bot_members_count\"]].head())\n",
    "lg_human_gini = (github.query(\"Team_type == 'human' and Team_size_class == 'Large' and human_gini >= 0.75\"))#Large based on .75\n",
    "print(\"\\nLarge Human Teams with Gini >= 0.75:\\n\", lg_human_gini[[\"Team_type\", \"Team_size_class\", \"human_gini\"]].head())"
   ]
  },
  {
   "cell_type": "code",
   "execution_count": 52,
   "id": "02583fcc-e400-48d5-907a-05bd880213e2",
   "metadata": {},
   "outputs": [
    {
     "name": "stdout",
     "output_type": "stream",
     "text": [
      "\n",
      "The total count of small or sarge teams: 428\n"
     ]
    }
   ],
   "source": [
    "sm_lg_count = (github.query(\"Team_size_class == 'Small' or Team_size_class == 'Large'\")) #Count based on size\n",
    "print(\"\\nThe total count of small or sarge teams:\", sm_lg_count.shape[0])"
   ]
  },
  {
   "cell_type": "code",
   "execution_count": 54,
   "id": "6ae219b8-bcbb-482f-91a3-9322e8ac2486",
   "metadata": {},
   "outputs": [
    {
     "name": "stdout",
     "output_type": "stream",
     "text": [
      "\n",
      "The total count of Small/Large Teams with Gini <= 0.25: 89\n"
     ]
    }
   ],
   "source": [
    "low_gini_small_large = (sm_lg_count.query(\"human_gini <= 0.25\")) #COunt human_gini less than .25\n",
    "print(\"\\nThe total count of Small/Large Teams with Gini <= 0.25:\", low_gini_small_large.shape[0])"
   ]
  },
  {
   "cell_type": "code",
   "execution_count": 56,
   "id": "deb6ceae-41ee-41fe-a175-d056eda095be",
   "metadata": {},
   "outputs": [
    {
     "name": "stdout",
     "output_type": "stream",
     "text": [
      "\n",
      "The total count of Medium Human Teams: 96\n"
     ]
    }
   ],
   "source": [
    "med_human_teams = (github.query(\"Team_type == 'human' and Team_size_class == 'Medium'\"))#count medd team size\n",
    "print(\"\\nThe total count of Medium Human Teams:\", med_human_teams.shape[0])"
   ]
  },
  {
   "cell_type": "code",
   "execution_count": 62,
   "id": "8b6cb0d8-c445-4b10-b46d-3a42fb0dabcb",
   "metadata": {},
   "outputs": [
    {
     "name": "stdout",
     "output_type": "stream",
     "text": [
      "\n",
      "The Team Productivity:\n",
      "   Team_size_class  work_per_human\n",
      "0           Small       33.000000\n",
      "1           Small       31.000000\n",
      "2           Large       30.142857\n",
      "3           Large       62.303419\n",
      "4           Large       42.763158\n",
      "\n",
      "The Renamed Columns:\n",
      "    work_inequality  issue_resolution_time\n",
      "0         0.287879                   87.0\n",
      "1         0.467742                    NaN\n",
      "2         0.499661                   37.0\n",
      "3         0.738342                    1.0\n",
      "4         0.666607                    2.0\n"
     ]
    }
   ],
   "source": [
    "team_prod = (github.filter([\"Team_size_class\", \"work_per_human\"])) #Save the columns Team_size_class and work_per_human\n",
    "print(\"\\nThe Team Productivity:\\n\", team_prod.head())\n",
    "renamed_df = (github.rename(columns={ \"human_gini\": \"work_inequality\",\"eval_survival_day_median\": \"issue_resolution_time\"}))#rename columns\n",
    "print(\"\\nThe Renamed Columns:\\n\", renamed_df[[\"work_inequality\", \"issue_resolution_time\"]].head())\n"
   ]
  }
 ],
 "metadata": {
  "kernelspec": {
   "display_name": "Python [conda env:base] *",
   "language": "python",
   "name": "conda-base-py"
  },
  "language_info": {
   "codemirror_mode": {
    "name": "ipython",
    "version": 3
   },
   "file_extension": ".py",
   "mimetype": "text/x-python",
   "name": "python",
   "nbconvert_exporter": "python",
   "pygments_lexer": "ipython3",
   "version": "3.12.7"
  }
 },
 "nbformat": 4,
 "nbformat_minor": 5
}
