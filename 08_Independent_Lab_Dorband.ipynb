{
 "cells": [
  {
   "cell_type": "code",
   "execution_count": 69,
   "id": "b9eca9cd-5da5-4d3a-9abd-c14a9270dea1",
   "metadata": {},
   "outputs": [
    {
     "name": "stdout",
     "output_type": "stream",
     "text": [
      "Preview of New Renamed Columns:\n",
      "    project_id project_domain project_language  project_age  quarter  \\\n",
      "0        1101          OTHER           Python           23       22   \n",
      "1        1101          OTHER           Python           23       22   \n",
      "2        1101          OTHER           Python           23       22   \n",
      "3        1101          OTHER           Python           23       22   \n",
      "4        1101          OTHER           Python           23       22   \n",
      "\n",
      "   team_size  project_commits  gender_blau  gh_tenure_gini  user_id  core_dev  \\\n",
      "0         26            22688          0.0        0.422259  1614129         1   \n",
      "1         26            22688          0.0        0.422259  1614101         0   \n",
      "2         26            22688          0.0        0.422259    94412         0   \n",
      "3         26            22688          0.0        0.422259    88459         0   \n",
      "4         26            22688          0.0        0.422259   738787         0   \n",
      "\n",
      "   user_commits  commit_proportion gender  gh_tenure  leaves_next_q  \n",
      "0         22138           0.975758   male        426              0  \n",
      "1           124           0.005465   male         46              0  \n",
      "2            53           0.002336   male        941              1  \n",
      "3            49           0.002160   male       1870              0  \n",
      "4            45           0.001983   male        781              0  \n"
     ]
    }
   ],
   "source": [
    "import pandas as pd  # import pandas\n",
    "\n",
    "TO = pd.read_csv(\"gh_turnover_four_projects.csv\")  # load csv file\n",
    "\n",
    "TO = TO.rename(columns={\n",
    "    \"domain\": \"project_domain\",\n",
    "    \"language\": \"project_language\",\n",
    "    \"windows\": \"project_age\",\n",
    "    \"window_idx\": \"quarter\",\n",
    "    \"num_team\": \"team_size\",\n",
    "    \"num_commits\": \"project_commits\",\n",
    "    \"blau_gender\": \"gender_blau\",\n",
    "    \"Gini_gh_ten\": \"gh_tenure_gini\",\n",
    "    \"Core1\": \"core_dev\",\n",
    "    \"commits\": \"user_commits\",\n",
    "    \"propCommits\": \"commit_proportion\",\n",
    "    \"github_tenure\": \"gh_tenure\",\n",
    "    \"leavesNextQ\": \"leaves_next_q\"\n",
    "})\n",
    "\n",
    "print(\"Preview of New Renamed Columns:\\n\", TO.head())"
   ]
  },
  {
   "cell_type": "code",
   "execution_count": 73,
   "id": "ac9308fa-0559-4e09-94a3-b677272cf33b",
   "metadata": {},
   "outputs": [
    {
     "name": "stdout",
     "output_type": "stream",
     "text": [
      "\n",
      "The Mean of User Commits: 339.36575052854124\n",
      "The Median of User Commits: 18.0\n"
     ]
    }
   ],
   "source": [
    "user_commits_mean = TO[\"user_commits\"].mean() #filtered mean\n",
    "user_commits_median = TO[\"user_commits\"].median() #filtered median\n",
    "\n",
    "print(\"\\nThe Mean of User Commits:\", user_commits_mean)\n",
    "print(\"The Median of User Commits:\", user_commits_median)"
   ]
  },
  {
   "cell_type": "code",
   "execution_count": 75,
   "id": "fbdb1145-a757-4550-9a0e-7f5f21368ec2",
   "metadata": {},
   "outputs": [
    {
     "name": "stdout",
     "output_type": "stream",
     "text": [
      "\n",
      "TO_new Columns:\n",
      " ['project_id', 'project_domain', 'project_language', 'project_age', 'project_commits', 'gender_blau', 'gh_tenure_gini', 'gender', 'gh_tenure']\n",
      "\n",
      "TO_new Preview:\n",
      "    project_id project_domain project_language  project_age  project_commits  \\\n",
      "0        1101          OTHER           Python           23            22688   \n",
      "1        1101          OTHER           Python           23            22688   \n",
      "2        1101          OTHER           Python           23            22688   \n",
      "3        1101          OTHER           Python           23            22688   \n",
      "4        1101          OTHER           Python           23            22688   \n",
      "\n",
      "   gender_blau  gh_tenure_gini gender  gh_tenure  \n",
      "0          0.0        0.422259   male        426  \n",
      "1          0.0        0.422259   male         46  \n",
      "2          0.0        0.422259   male        941  \n",
      "3          0.0        0.422259   male       1870  \n",
      "4          0.0        0.422259   male        781  \n"
     ]
    }
   ],
   "source": [
    "TO_new = TO.filter(regex='(^p)|(g)')  # filter columns that start with p or contain g\n",
    "print(\"\\nTO_new Columns:\\n\", TO_new.columns.tolist())\n",
    "print(\"\\nTO_new Preview:\\n\", TO_new.head())"
   ]
  },
  {
   "cell_type": "code",
   "execution_count": 79,
   "id": "052f1568-37a4-4255-b2a8-99adf9bdf82f",
   "metadata": {},
   "outputs": [
    {
     "name": "stdout",
     "output_type": "stream",
     "text": [
      "\n",
      "TO_newer Preview:\n",
      "    project_id project_domain project_language  project_age  project_commits  \\\n",
      "0        1101          OTHER           Python           23            22688   \n",
      "1        1101          OTHER           Python           23            22688   \n",
      "2        1101          OTHER           Python           23            22688   \n",
      "3        1101          OTHER           Python           23            22688   \n",
      "4        1101          OTHER           Python           23            22688   \n",
      "\n",
      "   gender_blau  gh_tenure_gini gender  gh_tenure  \n",
      "0          0.0        0.422259   male        426  \n",
      "1          0.0        0.422259   male         46  \n",
      "2          0.0        0.422259   male        941  \n",
      "3          0.0        0.422259   male       1870  \n",
      "4          0.0        0.422259   male        781  \n"
     ]
    }
   ],
   "source": [
    "TO_newer = (#rows with project_commits > 9000 using piping\n",
    "    TO.filter(regex='(^p)|(g)').query(\"project_commits > 9000\"))\n",
    "print(\"\\nTO_newer Preview:\\n\", TO_newer.head())"
   ]
  },
  {
   "cell_type": "code",
   "execution_count": 81,
   "id": "bd1b6ef1-bc4d-4d2f-b676-d65b599a6b53",
   "metadata": {},
   "outputs": [
    {
     "name": "stdout",
     "output_type": "stream",
     "text": [
      "\n",
      "Filtered (e$ or s) and gh_tenure >= 1991:\n",
      "     project_language  project_age  team_size  project_commits  user_id  \\\n",
      "339             Java           16          2                7    33272   \n",
      "457           Python           23         20             3070    88459   \n",
      "\n",
      "     user_commits  gh_tenure  leaves_next_q  \n",
      "339             6       2006              0  \n",
      "457             1       2054              0  \n"
     ]
    }
   ],
   "source": [
    "TO_filtered_2 = ( # columns ending in 'e' or contain 's', rows where gh_tenure >= 1991\n",
    "    TO.filter(regex='(e$)|(s)').query(\"gh_tenure >= 1991\"))\n",
    "print(\"\\nFiltered (e$ or s) and gh_tenure >= 1991:\\n\", TO_filtered_2.head())"
   ]
  },
  {
   "cell_type": "code",
   "execution_count": 83,
   "id": "88857a8e-9e5e-4761-99d9-4d70cc8c4aa6",
   "metadata": {},
   "outputs": [
    {
     "name": "stdout",
     "output_type": "stream",
     "text": [
      "\n",
      "Filtered Mean of user_commits: 3.5\n",
      "Filtered Median of user_commits: 3.5\n"
     ]
    }
   ],
   "source": [
    "mean_filtered = TO_filtered_2[\"user_commits\"].mean() #filtered mean\n",
    "median_filtered = TO_filtered_2[\"user_commits\"].median()#filtered median\n",
    "\n",
    "print(\"\\nFiltered Mean of user_commits:\", mean_filtered)\n",
    "print(\"Filtered Median of user_commits:\", median_filtered)"
   ]
  },
  {
   "cell_type": "code",
   "execution_count": null,
   "id": "dda4ce92-bea0-4474-9642-0531899e0498",
   "metadata": {},
   "outputs": [],
   "source": []
  }
 ],
 "metadata": {
  "kernelspec": {
   "display_name": "Python [conda env:base] *",
   "language": "python",
   "name": "conda-base-py"
  },
  "language_info": {
   "codemirror_mode": {
    "name": "ipython",
    "version": 3
   },
   "file_extension": ".py",
   "mimetype": "text/x-python",
   "name": "python",
   "nbconvert_exporter": "python",
   "pygments_lexer": "ipython3",
   "version": "3.12.7"
  }
 },
 "nbformat": 4,
 "nbformat_minor": 5
}
